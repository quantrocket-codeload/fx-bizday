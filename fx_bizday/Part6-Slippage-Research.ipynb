{
 "cells": [
  {
   "cell_type": "markdown",
   "metadata": {},
   "source": [
    "<a href=\"https://www.quantrocket.com\"><img alt=\"QuantRocket logo\" src=\"https://www.quantrocket.com/assets/img/notebook-header-logo.png\"></a><br>\n",
    "<a href=\"https://www.quantrocket.com/disclaimer/\">Disclaimer</a>"
   ]
  },
  {
   "cell_type": "markdown",
   "metadata": {},
   "source": [
    "# Slippage Research\n",
    "\n",
    "Given the trading strategy's sensitivity to slippage, it is a good idea to research typical EUR.USD spreads at the time of day we intend to trade. To do this, we will collect a month's worth of 1-minute bid/ask data from IBKR. We use the `BID_ASK` bar type, which provides the time-average bid and ask for the bar's duration. (Alternatively, we could collect the `BID` and `ASK` separately, see the [usage guide](https://www.quantrocket.com/h/bartype ) for available bar types.)"
   ]
  },
  {
   "cell_type": "markdown",
   "metadata": {},
   "source": [
    "## Data collection\n",
    "First, create a database for the historical data:"
   ]
  },
  {
   "cell_type": "code",
   "execution_count": 1,
   "metadata": {},
   "outputs": [
    {
     "data": {
      "text/plain": [
       "{'status': 'successfully created quantrocket.v2.history.fiber-quotes-1min.sqlite'}"
      ]
     },
     "execution_count": 1,
     "metadata": {},
     "output_type": "execute_result"
    }
   ],
   "source": [
    "from quantrocket.history import create_ibkr_db\n",
    "create_ibkr_db(\"fiber-quotes-1min\", \n",
    "              sids=\"FXEURUSD\", \n",
    "              bar_size=\"1 min\", \n",
    "              bar_type=\"BID_ASK\", \n",
    "              start_date=\"2019-01-01\", \n",
    "              end_date=\"2019-01-31\",\n",
    "              shard=\"off\")"
   ]
  },
  {
   "cell_type": "markdown",
   "metadata": {},
   "source": [
    "Then collect the data:"
   ]
  },
  {
   "cell_type": "code",
   "execution_count": 2,
   "metadata": {},
   "outputs": [
    {
     "data": {
      "text/plain": [
       "{'status': 'the historical data will be collected asynchronously'}"
      ]
     },
     "execution_count": 2,
     "metadata": {},
     "output_type": "execute_result"
    }
   ],
   "source": [
    "from quantrocket.history import collect_history\n",
    "collect_history(\"fiber-quotes-1min\")"
   ]
  },
  {
   "cell_type": "markdown",
   "metadata": {},
   "source": [
    "Monitor flightlog for the completion message:\n",
    "\n",
    "```\n",
    "quantrocket.history: INFO [fiber-quotes-1min] Collecting history from IBKR for 1 securities in fiber-quotes-1min\n",
    "quantrocket.history: INFO [fiber-quotes-1min] Saved 27270 total records for 1 total securities to quantrocket.v2.history.fiber-quotes-1min.sqlite\n",
    "```"
   ]
  },
  {
   "cell_type": "markdown",
   "metadata": {},
   "source": [
    "## Spread analysis\n",
    "\n",
    "Now we can load the bid/ask data and check the spreads."
   ]
  },
  {
   "cell_type": "code",
   "execution_count": 3,
   "metadata": {},
   "outputs": [],
   "source": [
    "from quantrocket import get_prices\n",
    "prices = get_prices(\"fiber-quotes-1min\", sids=\"FXEURUSD\", fields=[\"Open\",\"Close\"])"
   ]
  },
  {
   "cell_type": "markdown",
   "metadata": {},
   "source": [
    "For this bar type, the \"Open\" contains the time-average bid and the \"Close\" contains the time-average ask."
   ]
  },
  {
   "cell_type": "code",
   "execution_count": 4,
   "metadata": {},
   "outputs": [],
   "source": [
    "bids = prices.loc[\"Open\"]\n",
    "asks = prices.loc[\"Close\"]\n",
    "\n",
    "# Squeeze single-column DataFrame to Series\n",
    "bids = bids.squeeze()\n",
    "asks = asks.squeeze()"
   ]
  },
  {
   "cell_type": "markdown",
   "metadata": {},
   "source": [
    "Compute the spreads in basis points:"
   ]
  },
  {
   "cell_type": "code",
   "execution_count": 5,
   "metadata": {},
   "outputs": [],
   "source": [
    "spreads = (asks - bids)\n",
    "spreads_in_bps = (spreads/bids).astype(float)"
   ]
  },
  {
   "cell_type": "markdown",
   "metadata": {},
   "source": [
    "Get the average spread by time:"
   ]
  },
  {
   "cell_type": "code",
   "execution_count": 6,
   "metadata": {},
   "outputs": [],
   "source": [
    "times = spreads_in_bps.index.get_level_values(\"Time\")\n",
    "spreads_in_bps_by_time = spreads_in_bps.groupby(times).mean()"
   ]
  },
  {
   "cell_type": "markdown",
   "metadata": {},
   "source": [
    "Finally, check the spreads at the time of days we intend to trade:"
   ]
  },
  {
   "cell_type": "code",
   "execution_count": 7,
   "metadata": {},
   "outputs": [
    {
     "data": {
      "text/plain": [
       "Time\n",
       "03:00:00    0.000014\n",
       "11:00:00    0.000012\n",
       "16:00:00    0.000018\n",
       "Name: FXEURUSD, dtype: float64"
      ]
     },
     "execution_count": 7,
     "metadata": {},
     "output_type": "execute_result"
    }
   ],
   "source": [
    "spreads_in_bps_by_time.loc[[\"03:00:00\",\"11:00:00\",\"16:00:00\"]]"
   ]
  },
  {
   "cell_type": "code",
   "execution_count": 8,
   "metadata": {},
   "outputs": [
    {
     "data": {
      "text/plain": [
       "1.4756156893222112e-05"
      ]
     },
     "execution_count": 8,
     "metadata": {},
     "output_type": "execute_result"
    }
   ],
   "source": [
    "spreads_in_bps_by_time.loc[[\"03:00:00\",\"11:00:00\",\"16:00:00\"]].mean()"
   ]
  },
  {
   "cell_type": "markdown",
   "metadata": {},
   "source": [
    "The average spread is about 0.15 basis points. Since the prices used in our backtest reflect the midpoint, we only expect to pay half the spread, or 0.075 basis points. Thus, our slippage estimate of 0.1 basis point seems reasonable."
   ]
  },
  {
   "cell_type": "markdown",
   "metadata": {},
   "source": [
    "***\n",
    "\n",
    "## *Next Up*\n",
    "\n",
    "Part 7: [Manual Trading](Part7-Manual-Trading.ipynb)"
   ]
  }
 ],
 "metadata": {
  "kernelspec": {
   "display_name": "Python 3",
   "language": "python",
   "name": "python3"
  },
  "language_info": {
   "codemirror_mode": {
    "name": "ipython",
    "version": 3
   },
   "file_extension": ".py",
   "mimetype": "text/x-python",
   "name": "python",
   "nbconvert_exporter": "python",
   "pygments_lexer": "ipython3",
   "version": "3.7.6"
  }
 },
 "nbformat": 4,
 "nbformat_minor": 4
}
