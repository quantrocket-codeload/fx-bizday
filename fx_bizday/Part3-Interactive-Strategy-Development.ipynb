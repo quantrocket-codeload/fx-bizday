{
 "cells": [
  {
   "cell_type": "markdown",
   "metadata": {},
   "source": [
    "<a href=\"https://www.quantrocket.com\"><img alt=\"QuantRocket logo\" src=\"https://www.quantrocket.com/assets/img/notebook-header-logo.png\"></a><br>\n",
    "<a href=\"https://www.quantrocket.com/disclaimer/\">Disclaimer</a>"
   ]
  },
  {
   "cell_type": "markdown",
   "metadata": {},
   "source": [
    "***\n",
    "[FX Business Day Strategy](Introduction.ipynb) › Part 3: Interactive Strategy Development\n",
    "***"
   ]
  },
  {
   "cell_type": "markdown",
   "metadata": {},
   "source": [
    "# Interactive Strategy Development"
   ]
  },
  {
   "cell_type": "markdown",
   "metadata": {},
   "source": [
    "Now that we've validated the basic concept behind our trading strategy, we can write Pandas code to backtest the idea more fully using Moonshot. Based on the previous plot, we will create a strategy which sells EUR.USD from 3 AM to 11 AM New York time (9 AM to 5 PM Europe time), then buys EUR.USD from 11 AM to 4 PM.\n",
    "\n",
    "The sequence of steps needed for any Moonshot strategy is to create a DataFrame of signals, assign target weights to the signals, convert the DataFrame of target weights (what we want to own) to a DataFrame of positions (what we actually own), and calculate returns for the positions. \n",
    "\n",
    "To start, load prices again:"
   ]
  },
  {
   "cell_type": "code",
   "execution_count": 1,
   "metadata": {},
   "outputs": [],
   "source": [
    "from quantrocket import get_prices\n",
    "prices = get_prices(\"fiber-1h\", sids=\"FXEURUSD\", fields=\"Close\")"
   ]
  },
  {
   "cell_type": "markdown",
   "metadata": {},
   "source": [
    "## Prices to signals\n",
    "\n",
    "Since our signals are based on time, the first step is to get a DataFrame of times for calculating our signals. We extract the times from the prices index and use `apply` to broadcast them to match the shape of the DataFrame:"
   ]
  },
  {
   "cell_type": "code",
   "execution_count": 2,
   "metadata": {},
   "outputs": [
    {
     "data": {
      "text/html": [
       "<div>\n",
       "<style scoped>\n",
       "    .dataframe tbody tr th:only-of-type {\n",
       "        vertical-align: middle;\n",
       "    }\n",
       "\n",
       "    .dataframe tbody tr th {\n",
       "        vertical-align: top;\n",
       "    }\n",
       "\n",
       "    .dataframe thead th {\n",
       "        text-align: right;\n",
       "    }\n",
       "</style>\n",
       "<table border=\"1\" class=\"dataframe\">\n",
       "  <thead>\n",
       "    <tr style=\"text-align: right;\">\n",
       "      <th></th>\n",
       "      <th>Sid</th>\n",
       "      <th>FXEURUSD</th>\n",
       "    </tr>\n",
       "    <tr>\n",
       "      <th>Date</th>\n",
       "      <th>Time</th>\n",
       "      <th></th>\n",
       "    </tr>\n",
       "  </thead>\n",
       "  <tbody>\n",
       "    <tr>\n",
       "      <th rowspan=\"5\" valign=\"top\">2005-03-10</th>\n",
       "      <th>00:00:00</th>\n",
       "      <td>00:00:00</td>\n",
       "    </tr>\n",
       "    <tr>\n",
       "      <th>01:00:00</th>\n",
       "      <td>01:00:00</td>\n",
       "    </tr>\n",
       "    <tr>\n",
       "      <th>02:00:00</th>\n",
       "      <td>02:00:00</td>\n",
       "    </tr>\n",
       "    <tr>\n",
       "      <th>03:00:00</th>\n",
       "      <td>03:00:00</td>\n",
       "    </tr>\n",
       "    <tr>\n",
       "      <th>04:00:00</th>\n",
       "      <td>04:00:00</td>\n",
       "    </tr>\n",
       "  </tbody>\n",
       "</table>\n",
       "</div>"
      ],
      "text/plain": [
       "Sid                  FXEURUSD\n",
       "Date       Time              \n",
       "2005-03-10 00:00:00  00:00:00\n",
       "           01:00:00  01:00:00\n",
       "           02:00:00  02:00:00\n",
       "           03:00:00  03:00:00\n",
       "           04:00:00  04:00:00"
      ]
     },
     "execution_count": 2,
     "metadata": {},
     "output_type": "execute_result"
    }
   ],
   "source": [
    "closes = prices.loc[\"Close\"]\n",
    "        \n",
    "# Get a DataFrame of times\n",
    "times = closes.index.get_level_values(\"Time\")\n",
    "times = closes.apply(lambda x: times)\n",
    "times.head()"
   ]
  },
  {
   "cell_type": "markdown",
   "metadata": {},
   "source": [
    "Next we get boolean DataFrames indicating when we want to buy and sell EUR.USD:"
   ]
  },
  {
   "cell_type": "code",
   "execution_count": 3,
   "metadata": {},
   "outputs": [],
   "source": [
    "# Sell EUR.USD when Europe is open\n",
    "sell_eur = (times >= \"03:00:00\") & (times < \"11:00:00\")\n",
    "\n",
    "# Buy EUR.USD when Europe is closed and US is open\n",
    "buy_eur = (times >= \"11:00:00\") & (times < \"16:00:00\")"
   ]
  },
  {
   "cell_type": "markdown",
   "metadata": {},
   "source": [
    "By convention, a signals DataFrame consists of 1s, 0s, and -1s to indicate long, cash, and short. We create such a DataFrame from our boolean DataFrames: "
   ]
  },
  {
   "cell_type": "code",
   "execution_count": 4,
   "metadata": {},
   "outputs": [],
   "source": [
    "import pandas as pd\n",
    "\n",
    "# Construct 1s and -1s with which to create our signals DataFrame\n",
    "ones = pd.DataFrame(1, index=closes.index, columns=closes.columns)\n",
    "minus_ones = pd.DataFrame(-1, index=closes.index, columns=closes.columns)\n",
    "\n",
    "# Create int signals from booleans\n",
    "signals = minus_ones.where(sell_eur, ones.where(buy_eur, 0))"
   ]
  },
  {
   "cell_type": "markdown",
   "metadata": {},
   "source": [
    "Finally, noting that the FX market is open for part of the weekend, we limit the signals to weekdays:"
   ]
  },
  {
   "cell_type": "code",
   "execution_count": 5,
   "metadata": {},
   "outputs": [],
   "source": [
    "are_weekdays = closes.index.get_level_values(\"Date\").day_name().isin([\n",
    "    \"Monday\",\n",
    "    \"Tuesday\",\n",
    "    \"Wednesday\",\n",
    "    \"Thursday\",\n",
    "    \"Friday\"\n",
    "])\n",
    "are_weekdays = signals.apply(lambda x: are_weekdays)\n",
    "\n",
    "signals = signals.where(are_weekdays, 0)"
   ]
  },
  {
   "cell_type": "markdown",
   "metadata": {},
   "source": [
    "## Signals to target weights\n",
    "\n",
    "Target weights represent the proportion of capital to assign to each signal. Since we are only trading 1 instrument, we assign all of our capital to it, meaning our target weights are identical to our signals:"
   ]
  },
  {
   "cell_type": "code",
   "execution_count": 6,
   "metadata": {},
   "outputs": [],
   "source": [
    "target_weights = signals.copy()"
   ]
  },
  {
   "cell_type": "markdown",
   "metadata": {},
   "source": [
    "## Target weights to positions\n",
    "\n",
    "We will assume that we enter the position immediately at the time of the signal (alternatively we could have generated our signals one period earlier and entered the position in the following period):"
   ]
  },
  {
   "cell_type": "code",
   "execution_count": 7,
   "metadata": {},
   "outputs": [],
   "source": [
    "positions = target_weights.copy()"
   ]
  },
  {
   "cell_type": "markdown",
   "metadata": {},
   "source": [
    "## Positions to gross returns\n",
    "\n",
    "Our gross returns are the percent change of EUR.USD multiplied by the position. We `shift()` the position because the return doesn't accrue until the period after we enter the position:"
   ]
  },
  {
   "cell_type": "code",
   "execution_count": 8,
   "metadata": {},
   "outputs": [],
   "source": [
    "gross_returns = closes.pct_change() * positions.shift()"
   ]
  },
  {
   "cell_type": "markdown",
   "metadata": {},
   "source": [
    "We can plot the returns to see the performance before slippage and commissions:"
   ]
  },
  {
   "cell_type": "code",
   "execution_count": 9,
   "metadata": {},
   "outputs": [
    {
     "data": {
      "image/png": "[encoded data removed]",
      "text/plain": [
       "<Figure size 1152x432 with 1 Axes>"
      ]
     },
     "metadata": {},
     "output_type": "display_data"
    }
   ],
   "source": [
    "cum_returns = (1 + gross_returns).cumprod()\n",
    "cum_returns.droplevel(\"Time\").plot();"
   ]
  },
  {
   "cell_type": "markdown",
   "metadata": {},
   "source": [
    "***\n",
    "\n",
    "## *Next Up*\n",
    "\n",
    "Part 4: [Moonshot Backtest](Part4-Moonshot-Backtest.ipynb)"
   ]
  }
 ],
 "metadata": {
  "kernelspec": {
   "display_name": "Python 3.11",
   "language": "python",
   "name": "python3"
  },
  "language_info": {
   "codemirror_mode": {
    "name": "ipython",
    "version": 3
   },
   "file_extension": ".py",
   "mimetype": "text/x-python",
   "name": "python",
   "nbconvert_exporter": "python",
   "pygments_lexer": "ipython3",
   "version": "3.11.0"
  }
 },
 "nbformat": 4,
 "nbformat_minor": 4
}
