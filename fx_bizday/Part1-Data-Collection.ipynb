{
 "cells": [
  {
   "cell_type": "markdown",
   "metadata": {},
   "source": [
    "<a href=\"https://www.quantrocket.com\"><img alt=\"QuantRocket logo\" src=\"https://www.quantrocket.com/assets/img/notebook-header-logo.png\"></a><br>\n",
    "<a href=\"https://www.quantrocket.com/disclaimer/\">Disclaimer</a>"
   ]
  },
  {
   "cell_type": "markdown",
   "metadata": {},
   "source": [
    "***\n",
    "[FX Business Day Strategy](Introduction.ipynb) › Part 1: Data Collection\n",
    "***"
   ]
  },
  {
   "cell_type": "markdown",
   "metadata": {},
   "source": [
    "# Data Collection\n",
    "  \n",
    "To backtest the FX strategy, we will collect 1-hour bars from Interactive Brokers for EUR.USD.\n",
    "\n",
    "> EUR.USD is included in QuantRocket's list of free sample data. No QuantRocket subscription is required to collect EUR.USD data but an IBKR account is required. (IBKR provides FX data for free to account holders.)"
   ]
  },
  {
   "cell_type": "markdown",
   "metadata": {},
   "source": [
    "First, start IB Gateway:"
   ]
  },
  {
   "cell_type": "code",
   "execution_count": 1,
   "metadata": {},
   "outputs": [
    {
     "data": {
      "text/plain": [
       "{'ibg1': {'status': 'running'}}"
      ]
     },
     "execution_count": 1,
     "metadata": {},
     "output_type": "execute_result"
    }
   ],
   "source": [
    "from quantrocket.ibg import start_gateways\n",
    "start_gateways(wait=True)"
   ]
  },
  {
   "cell_type": "markdown",
   "metadata": {},
   "source": [
    "## Collect EUR.USD listing\n",
    "\n",
    "The first step is to collect the securities master record for EUR.USD. EUR.USD is included in QuantRocket's free sample data, so we can collect the contract details by specifying the \"FREE\" country: "
   ]
  },
  {
   "cell_type": "code",
   "execution_count": 2,
   "metadata": {},
   "outputs": [
    {
     "data": {
      "text/plain": [
       "{'status': 'success', 'msg': 'successfully loaded IBKR FREE securities'}"
      ]
     },
     "metadata": {},
     "output_type": "display_data"
    }
   ],
   "source": [
    "from quantrocket.master import collect_ibkr_listings\n",
    "collect_ibkr_listings(countries=\"FREE\")"
   ]
  },
  {
   "cell_type": "markdown",
   "metadata": {},
   "source": [
    "## Lookup EUR.USD\n",
    "\n",
    "We need to look up the Sid (security ID) for EUR.USD so we can collect historical data for it. We use the command line interface because less typing is required. (You can also look this up in the Data Browser.)\n",
    "\n",
    "> Prefixing a line with `!` allows running terminal commands from inside a notebook."
   ]
  },
  {
   "cell_type": "code",
   "execution_count": 3,
   "metadata": {},
   "outputs": [
    {
     "name": "stdout",
     "output_type": "stream",
     "text": [
      "---\n",
      "  - \n",
      "    Sid: \"FXEURUSD\"\n",
      "    Symbol: \"EUR.USD\"\n",
      "    Exchange: \"IDEALPRO\"\n",
      "    Country: null\n",
      "    Currency: \"USD\"\n",
      "    SecType: \"CASH\"\n",
      "    Etf: 0\n",
      "    Timezone: \"America/New_York\"\n",
      "    Name: \"European Monetary Union Euro\"\n",
      "    PriceMagnifier: 1\n",
      "    Multiplier: 1\n",
      "    Delisted: 0\n",
      "    DateDelisted: null\n",
      "    LastTradeDate: null\n",
      "    RolloverDate: null\n",
      "\n"
     ]
    }
   ],
   "source": [
    "!quantrocket master get --symbols 'EUR.USD' --json | json2yaml"
   ]
  },
  {
   "cell_type": "markdown",
   "metadata": {},
   "source": [
    "## Collect historical data\n",
    "\n",
    "Next, we create a database for collecting 1-hour EUR.USD bars. Since FX is an OTC market, historical data does not represent actual trades but rather the bid-ask midpoint; we specify `MIDPOINT` as the bar type to be explicit, but this would be implied for CASH securities even if we omitted the `bar_type` parameter. We use EUR.USD's nickname, Fiber, to name the database.\n",
    "\n",
    "> The `shard` parameter is required for intraday databases and determines how to split up large databases into smaller pieces for better performance. Since our universe contains only one pair, we can turn this feature off. See the [usage guide](https://www.quantrocket.com/h/shard) to learn more."
   ]
  },
  {
   "cell_type": "code",
   "execution_count": 4,
   "metadata": {},
   "outputs": [
    {
     "data": {
      "text/plain": [
       "{'status': 'successfully created quantrocket.v2.history.fiber-1h.sqlite'}"
      ]
     },
     "execution_count": 4,
     "metadata": {},
     "output_type": "execute_result"
    }
   ],
   "source": [
    "from quantrocket.history import create_ibkr_db\n",
    "create_ibkr_db(\"fiber-1h\", sids=\"FXEURUSD\", bar_size=\"1 hour\", bar_type=\"MIDPOINT\", shard=\"off\")"
   ]
  },
  {
   "cell_type": "markdown",
   "metadata": {},
   "source": [
    "Then collect the data:"
   ]
  },
  {
   "cell_type": "code",
   "execution_count": 5,
   "metadata": {},
   "outputs": [
    {
     "data": {
      "text/plain": [
       "{'status': 'the historical data will be collected asynchronously'}"
      ]
     },
     "execution_count": 5,
     "metadata": {},
     "output_type": "execute_result"
    }
   ],
   "source": [
    "from quantrocket.history import collect_history\n",
    "collect_history(\"fiber-1h\")"
   ]
  },
  {
   "cell_type": "markdown",
   "metadata": {},
   "source": [
    "Monitor flightlog for completion:\n",
    "\n",
    "```\n",
    "quantrocket.history: INFO [fiber-1h] Collecting history from IBKR for 1 securities in fiber-1h\n",
    "quantrocket.history: INFO [fiber-1h] Saved 85778 total records for 1 total securities to quantrocket.v2.history.fiber-1h.sqlite\n",
    "```\n",
    "\n",
    "For more detailed feedback during the data collection, check the detailed logs (`quantrocket flightlog stream -d`):\n",
    "\n",
    "```\n",
    "quantrocket-history-1|Issuing to ibg1 historical data request for 20 D of 1 hour MIDPOINT for EUR.USD CASH (sid FXEURUSD) ending 20070204 17:00:00 UTC\n",
    "quantrocket-history-1|Issuing to ibg1 historical data request for 20 D of 1 hour MIDPOINT for EUR.USD CASH (sid FXEURUSD) ending 20070224 17:00:00 UTC\n",
    "...\n",
    "```"
   ]
  },
  {
   "cell_type": "markdown",
   "metadata": {},
   "source": [
    "***\n",
    "\n",
    "## *Next Up*\n",
    "\n",
    "Part 2: [Time-of-Day Research](Part2-Time-of-Day-Research.ipynb)"
   ]
  }
 ],
 "metadata": {
  "kernelspec": {
   "display_name": "Python 3.11",
   "language": "python",
   "name": "python3"
  },
  "language_info": {
   "codemirror_mode": {
    "name": "ipython",
    "version": 3
   },
   "file_extension": ".py",
   "mimetype": "text/x-python",
   "name": "python",
   "nbconvert_exporter": "python",
   "pygments_lexer": "ipython3",
   "version": "3.11.0"
  }
 },
 "nbformat": 4,
 "nbformat_minor": 4
}
