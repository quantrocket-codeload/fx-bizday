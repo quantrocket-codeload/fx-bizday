{
 "cells": [
  {
   "cell_type": "markdown",
   "metadata": {},
   "source": [
    "<a href=\"https://www.quantrocket.com\"><img alt=\"QuantRocket logo\" src=\"https://www.quantrocket.com/assets/img/notebook-header-logo.png\"></a><br>\n",
    "<a href=\"https://www.quantrocket.com/disclaimer/\">Disclaimer</a>"
   ]
  },
  {
   "cell_type": "markdown",
   "metadata": {},
   "source": [
    "# FX Business Day Strategy\n",
    "\n",
    "This tutorial demonstrates an intraday FX strategy that exploits the tendency of currencies to depreciate during local business hours and appreciate during foreign business hours.\n",
    "\n",
    "Academic research postulates that businesses are net buyers of foreign currencies, and since businesses are primarily active during their local business hours, they cause foreign currencies to rise against the local currency. Later, when foreign businesses are open, the process is reversed.\n",
    "\n",
    "The effect exists in multiple currency pairs, but we focus on EUR.USD because it has the greatest liquidity and tightest spreads. The trading strategy simply sells EUR.USD each day during Europe business hours and buys EUR.USD during US business hours. (Using GBP.USD yields similar results.)\n",
    "\n",
    "This tutorial uses hourly EUR.USD data from Interactive Brokers. An Interactive Brokers account is required but no QuantRocket subscription is required for backtesting.\n",
    "\n",
    "**Source paper**: Breedon, Francis and Ranaldo, Angelo, Intraday Patterns in FX Returns and Order Flow (April 3, 2012). Queen Mary, University of London, School of Economics and Finance WP 694. Available at SSRN: https://ssrn.com/abstract=2099321"
   ]
  },
  {
   "cell_type": "markdown",
   "metadata": {},
   "source": [
    "* Part 1: [Data Collection](Part1-Data-Collection.ipynb)\n",
    "* Part 2: [Time-of-Day Research](Part2-Time-of-Day-Research.ipynb)\n",
    "* Part 3: [Interactive Strategy Development](Part3-Interactive-Strategy-Development.ipynb)\n",
    "* Part 4: [Moonshot Backtest](Part4-Moonshot-Backtest.ipynb)\n",
    "* Part 5: [Parameter Scans](Part5-Parameter-Scans.ipynb)\n",
    "* Part 6: [Slippage Research](Part6-Slippage-Research.ipynb)\n",
    "* Part 7: [Manual Trading](Part7-Manual-Trading.ipynb)\n",
    "* Part 8: [Schedule Live Trading](Part8-Schedule-Live-Trading.ipynb)"
   ]
  }
 ],
 "metadata": {
  "kernelspec": {
   "display_name": "Python 3.11",
   "language": "python",
   "name": "python3"
  },
  "language_info": {
   "codemirror_mode": {
    "name": "ipython",
    "version": 3
   },
   "file_extension": ".py",
   "mimetype": "text/x-python",
   "name": "python",
   "nbconvert_exporter": "python",
   "pygments_lexer": "ipython3",
   "version": "3.11.0"
  }
 },
 "nbformat": 4,
 "nbformat_minor": 4
}
