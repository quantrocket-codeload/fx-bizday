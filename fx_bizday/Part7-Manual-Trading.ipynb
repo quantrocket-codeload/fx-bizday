{
 "cells": [
  {
   "cell_type": "markdown",
   "metadata": {},
   "source": [
    "<a href=\"https://www.quantrocket.com\"><img alt=\"QuantRocket logo\" src=\"https://www.quantrocket.com/assets/img/notebook-header-logo.png\"></a>\n",
    "\n",
    "<a href=\"https://www.quantrocket.com/disclaimer/\">Disclaimer</a>"
   ]
  },
  {
   "cell_type": "markdown",
   "metadata": {},
   "source": [
    "# Manual Trading\n",
    "\n",
    "Before we schedule `fx-bizday` for live or paper trading, we'll run it manually to view the orders it would generate."
   ]
  },
  {
   "cell_type": "markdown",
   "metadata": {},
   "source": [
    "## Account allocation\n",
    "\n",
    "Before we can trade, we must allocate `fx-bizday` to one or more accounts, and specify how much of the account's capital to allocate. Open [quantrocket.moonshot.allocations.yml](quantrocket.moonshot.allocations.yml), edit the account number to match your live or paper brokerage account, and edit the capital allocation percentage as desired.\n",
    "\n",
    "If you don't already have a `quantrocket.moonshot.allocations.yml` in the `/codeload` directory (i.e. top level of the Jupyter file browser), you can execute the following command to copy it over. Otherwise, append the new allocation to your existing file."
   ]
  },
  {
   "cell_type": "code",
   "execution_count": 1,
   "metadata": {},
   "outputs": [],
   "source": [
    "# move file over unless it already exists\n",
    "![ -e /codeload/quantrocket.moonshot.allocations.y*ml ] && echo 'oops, the file already exists!' || mv quantrocket.moonshot.allocations.yml /codeload/"
   ]
  },
  {
   "cell_type": "markdown",
   "metadata": {},
   "source": [
    "## Generate Moonshot orders\n",
    "\n",
    "Now we can try to run Moonshot and generate orders. Depending on how recently you collected data and whether the market is currently open, you might get an error like the following:"
   ]
  },
  {
   "cell_type": "code",
   "execution_count": 2,
   "metadata": {},
   "outputs": [
    {
     "name": "stdout",
     "output_type": "stream",
     "text": [
      "msg: no 16:00:00 data found in prices DataFrame for signal date 2019-02-13, is the\n",
      "  underlying data up-to-date? (max time for 2019-02-13 is 13:00:00)\n",
      "status: error\n"
     ]
    }
   ],
   "source": [
    "!quantrocket moonshot trade 'fx-bizday'"
   ]
  },
  {
   "cell_type": "markdown",
   "metadata": {},
   "source": [
    "Moonshot is trying to protect us from trading with stale data. For testing purposes we can work around this error by using the `--review-date` parameter to tell Moonshot to generate orders as if it were an earlier date and time. Set the review date to an earlier date and time that is within the date range of your data. Moonshot returns a CSV of orders, which we format for the terminal with `csvlook`:"
   ]
  },
  {
   "cell_type": "code",
   "execution_count": 3,
   "metadata": {},
   "outputs": [
    {
     "name": "stdout",
     "output_type": "stream",
     "text": [
      "| Sid      | Account  | Action | OrderRef  | TotalQuantity | Exchange | OrderType | Tif |\n",
      "| -------- | -------- | ------ | --------- | ------------- | -------- | --------- | --- |\n",
      "| FXEURUSD | DU123456 | SELL   | fx-bizday |       922,546 | IDEALPRO | MKT       | DAY |\n"
     ]
    }
   ],
   "source": [
    "!quantrocket moonshot trade 'fx-bizday' --review-date '2019-02-13 03:01:00' | csvlook"
   ]
  },
  {
   "cell_type": "markdown",
   "metadata": {},
   "source": [
    "In the above example we simulate running the strategy just after 3 AM, which results in an order to sell EUR.USD."
   ]
  },
  {
   "cell_type": "markdown",
   "metadata": {},
   "source": [
    "***\n",
    "\n",
    "## *Next Up*\n",
    "\n",
    "Part 8: [Schedule Live Trading](Part8-Schedule-Live-Trading.ipynb)"
   ]
  }
 ],
 "metadata": {
  "kernelspec": {
   "display_name": "Python 3",
   "language": "python",
   "name": "python3"
  },
  "language_info": {
   "codemirror_mode": {
    "name": "ipython",
    "version": 3
   },
   "file_extension": ".py",
   "mimetype": "text/x-python",
   "name": "python",
   "nbconvert_exporter": "python",
   "pygments_lexer": "ipython3",
   "version": "3.7.6"
  }
 },
 "nbformat": 4,
 "nbformat_minor": 4
}
