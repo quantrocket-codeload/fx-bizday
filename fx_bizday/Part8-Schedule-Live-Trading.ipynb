{
 "cells": [
  {
   "cell_type": "markdown",
   "metadata": {},
   "source": [
    "<a href=\"https://www.quantrocket.com\"><img alt=\"QuantRocket logo\" src=\"https://www.quantrocket.com/assets/img/notebook-header-logo.png\"></a><br>\n",
    "<a href=\"https://www.quantrocket.com/disclaimer/\">Disclaimer</a>"
   ]
  },
  {
   "cell_type": "markdown",
   "metadata": {},
   "source": [
    "***\n",
    "[FX Business Day Strategy](Introduction.ipynb) › Part 8: Scheduling\n",
    "***"
   ]
  },
  {
   "cell_type": "markdown",
   "metadata": {},
   "source": [
    "# Scheduling\n",
    "\n",
    "To automate trading of the `fx-bizday` strategy, the remaining step is to schedule data to be collected and Moonshot to run at the appropriate times. Running cron jobs is the task of the `countdown` service. The example commands to run are provided in [quantrocket.countdown.crontab.sh](quantrocket.countdown.crontab.sh)."
   ]
  },
  {
   "cell_type": "markdown",
   "metadata": {},
   "source": [
    "## Crontab overview\n",
    "\n",
    "The cron job for live trading runs at 3 AM, 11 AM, and 4 PM and consists of the following commands:\n",
    "\n",
    "* Update the FX database with the latest data\n",
    "* Wait for data collection to finish\n",
    "* Run Moonshot to generate the latest orders and send them to the blotter\n",
    "\n",
    "We use the priority queue to collect the data in case any longer-running data collections are in progress. Also, we sleep a few seconds first to ensure that the 3AM/11AM/4PM data collection includes a 3AM/11AM/4PM bar, as otherwise Moonshot will complain that our data is stale. (See the usage guide to learn more about trade time validation for intraday Moonshot strategies.)\n",
    "\n",
    "```shell\n",
    "# Update historical database, wait for it to finish, then trade fx-bizday each weekday at 3 AM, 11 AM, and 4 PM. This command \"paper trades\" \n",
    "# fx-bizday by logging orders to flightlog; to live or paper trade with broker, send orders to blotter instead:\n",
    "#     ... quantrocket moonshot trade 'fx-bizday' | quantrocket blotter order -f -\n",
    "0 3,11,16 * * mon-fri sleep 3 && quantrocket history collect 'fiber-1h' --priority && quantrocket history wait 'fiber-1h' && quantrocket moonshot trade 'fx-bizday' | quantrocket flightlog log -n 'quantrocket.moonshot'\n",
    "```\n",
    "\n",
    "> In this example we are using an up-to-date history database as our real-time data source for live trading. This is a simple approach and often effective when only trading a small number of securities. For other use cases, real-time data aggregated to the bar size of the strategy may be preferable. Learn more in the [usage guide](https://www.quantrocket.com/docs/#realtime)."
   ]
  },
  {
   "cell_type": "markdown",
   "metadata": {},
   "source": [
    "## Install the crontab\n",
    "\n",
    "> This section assumes that you're not already using your `countdown` service for any scheduled tasks and that you haven't yet set its timezone. If you're already using `countdown`, you can edit your existing crontab, or add a new countdown service for New York tasks. See the usage guide for help.  \n",
    "\n",
    "All the commands on the provided crontab are intended to be run in New York time. By default, the countdown timezone is UTC:"
   ]
  },
  {
   "cell_type": "code",
   "execution_count": 1,
   "metadata": {},
   "outputs": [
    {
     "data": {
      "text/plain": [
       "{'timezone': 'UTC'}"
      ]
     },
     "execution_count": 1,
     "metadata": {},
     "output_type": "execute_result"
    }
   ],
   "source": [
    "from quantrocket.countdown import get_timezone, set_timezone\n",
    "get_timezone()"
   ]
  },
  {
   "cell_type": "markdown",
   "metadata": {},
   "source": [
    "So first, set the countdown timezone to New York time:"
   ]
  },
  {
   "cell_type": "code",
   "execution_count": 2,
   "metadata": {},
   "outputs": [
    {
     "data": {
      "text/plain": [
       "{'status': 'successfully set timezone to America/New_York'}"
      ]
     },
     "execution_count": 2,
     "metadata": {},
     "output_type": "execute_result"
    }
   ],
   "source": [
    "set_timezone(\"America/New_York\")"
   ]
  },
  {
   "cell_type": "markdown",
   "metadata": {},
   "source": [
    "Install the crontab by moving it to the `/codeload` directory. (First open a flightlog terminal so you can see if it loads successfully.)"
   ]
  },
  {
   "cell_type": "code",
   "execution_count": 3,
   "metadata": {},
   "outputs": [],
   "source": [
    "# move file over unless it already exists\n",
    "![ -e /codeload/quantrocket.countdown.crontab* ] && echo 'oops, the file already exists!' || mv quantrocket.countdown.crontab.sh /codeload/"
   ]
  },
  {
   "cell_type": "markdown",
   "metadata": {},
   "source": [
    "You should see a success message in flightlog:\n",
    "\n",
    "```\n",
    "quantrocket.countdown: INFO Successfully loaded quantrocket.countdown.crontab.sh\n",
    "```"
   ]
  },
  {
   "cell_type": "markdown",
   "metadata": {},
   "source": [
    "***\n",
    "\n",
    "[Back to Introduction](Introduction.ipynb)"
   ]
  }
 ],
 "metadata": {
  "kernelspec": {
   "display_name": "Python 3.9",
   "language": "python",
   "name": "python3"
  },
  "language_info": {
   "codemirror_mode": {
    "name": "ipython",
    "version": 3
   },
   "file_extension": ".py",
   "mimetype": "text/x-python",
   "name": "python",
   "nbconvert_exporter": "python",
   "pygments_lexer": "ipython3",
   "version": "3.9.7"
  }
 },
 "nbformat": 4,
 "nbformat_minor": 4
}
